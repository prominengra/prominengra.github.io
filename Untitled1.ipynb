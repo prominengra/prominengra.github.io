{
  "nbformat": 4,
  "nbformat_minor": 0,
  "metadata": {
    "colab": {
      "provenance": [],
      "authorship_tag": "ABX9TyOFJ+IdazOWriiLEHpxNUUH",
      "include_colab_link": true
    },
    "kernelspec": {
      "name": "python3",
      "display_name": "Python 3"
    },
    "language_info": {
      "name": "python"
    }
  },
  "cells": [
    {
      "cell_type": "markdown",
      "metadata": {
        "id": "view-in-github",
        "colab_type": "text"
      },
      "source": [
        "<a href=\"https://colab.research.google.com/github/prominengra/prominengra.github.io/blob/main/Untitled1.ipynb\" target=\"_parent\"><img src=\"https://colab.research.google.com/assets/colab-badge.svg\" alt=\"Open In Colab\"/></a>"
      ]
    },
    {
      "cell_type": "code",
      "execution_count": 1,
      "metadata": {
        "colab": {
          "base_uri": "https://localhost:8080/"
        },
        "id": "6dmlcu-VZvEl",
        "outputId": "d503f1f3-6a22-4b45-cc34-352214454898"
      },
      "outputs": [
        {
          "output_type": "stream",
          "name": "stdout",
          "text": [
            "hellow wold\n"
          ]
        }
      ],
      "source": [
        "print(\"hellow wold\")\n"
      ]
    },
    {
      "cell_type": "markdown",
      "source": [
        "#Data Stu. โครงสร้างข้อมูลพื้นฐาน\n",
        "1.  str>>  string\n",
        "2.  int>>  intrger\n",
        "3.  float>>  floating point\n",
        "4.  list>>  รายการข้อมูล"
      ],
      "metadata": {
        "id": "Jo5jogIRaJS5"
      }
    },
    {
      "cell_type": "code",
      "source": [
        "x = 20\n",
        "y = 40.0\n",
        "z ='A'\n",
        "type(z)\n",
        "A = int(input(\"Enter X value: \") )\n",
        "print(A)"
      ],
      "metadata": {
        "colab": {
          "base_uri": "https://localhost:8080/"
        },
        "id": "o-7INnrvbAxD",
        "outputId": "8b15d925-1f71-4fcd-830f-e6363ac948a0"
      },
      "execution_count": 7,
      "outputs": [
        {
          "name": "stdout",
          "output_type": "stream",
          "text": [
            "Enter X value: 123\n"
          ]
        }
      ]
    },
    {
      "cell_type": "code",
      "source": [],
      "metadata": {
        "id": "QGrxEVoZfet8"
      },
      "execution_count": null,
      "outputs": []
    },
    {
      "cell_type": "markdown",
      "source": [
        "#Example 2\n",
        "นำข้อมูล X และ Y เป็นชื่อ และ นามสกุล แล้วเสดงผลเป็น ชื่อ นามสกุล รหัสที่เข้าเรียน\n",
        "กำหนดให้เก็บรหัสที่เรียนเก็บไว้ในตัวแปร Num ที่เป็น str\n",
        "ตัวอย่าง output\n",
        "ชอน หย  ECE123\n",
        "\n",
        "\n",
        "```\n",
        "# This is formatted as code\n",
        "```\n",
        "\n"
      ],
      "metadata": {
        "id": "HLjPcnCsfvBb"
      }
    },
    {
      "cell_type": "code",
      "source": [
        "x = str(input(\"Frist name :\"))\n",
        "y = str(input(\"Last name :\"))\n",
        "Num = str(\"ECE019\")\n",
        "print(\"your name is : \",x+y+Num)"
      ],
      "metadata": {
        "colab": {
          "base_uri": "https://localhost:8080/"
        },
        "id": "ZJiQ8_ERfY98",
        "outputId": "a0bd1e16-1ef6-4cee-babb-fa24d71006fc"
      },
      "execution_count": 8,
      "outputs": [
        {
          "output_type": "stream",
          "name": "stdout",
          "text": [
            "Frist name :ชินวัชร์ \n",
            "Last name :วิจิตรโชติภะทร์ \n",
            "yr name is :  ชินวัชร์ วิจิตรโชติภะทร์ ECE019\n"
          ]
        }
      ]
    },
    {
      "cell_type": "markdown",
      "source": [
        "# List\n",
        "list จะเก็บข้อมูลชนิดไหนก็ได้ในตัวแปรเดียว\n",
        "โดยกำหนดให้[ปีกกา]เป็นrangของลิสต์\n",
        "เช่น X =[20,30,0,\"ABC\"]"
      ],
      "metadata": {
        "id": "A7dC7zJWhsfD"
      }
    },
    {
      "cell_type": "code",
      "source": [
        "Ab = [1,2,3,4,5] #ข้อมูล\n",
        "#Idex 0 .1. 2. 3. 4 #ลำดับข้อมูล\n",
        "#อยากได้ B ออกมาตัวเดียว (stop - 1)\n",
        "print(Ab[1:2])\n"
      ],
      "metadata": {
        "colab": {
          "base_uri": "https://localhost:8080/"
        },
        "id": "D3CB5rgui2Yj",
        "outputId": "bddaf1c0-2029-435b-a4fc-accd9e20411a"
      },
      "execution_count": 13,
      "outputs": [
        {
          "output_type": "stream",
          "name": "stdout",
          "text": [
            "[2]\n"
          ]
        }
      ]
    },
    {
      "cell_type": "markdown",
      "source": [],
      "metadata": {
        "id": "STQskLlhmH-t"
      }
    },
    {
      "cell_type": "markdown",
      "source": [
        "#Example 3\n",
        "กำหนดให้ลิสต์ X = [1,2,3,4,5,\"A\",\"AB\",\"C\",44.0]\n",
        "3.1 แสดงผลข้อมูลในลิสต์\n",
        "3.2 แสดงผลแค่ 5  \n",
        "3.3 แสดงผลข้อมูลเฉพาะ AB\n",
        "3.4 แสดงผลตั้งแต่ 4 ถึง C\n",
        "3.5 แสดง Index ตัวที่ 8 ออกมา\n",
        "3.6 แสดง Index ตั้งแต่ 2  ถึง 5\n"
      ],
      "metadata": {
        "id": "NdheoN63kk85"
      }
    },
    {
      "cell_type": "code",
      "source": [
        "p = [1,2,3,4,5,\"A\",\"AB\",\"C\",44.0]\n",
        "print (p)\n",
        "print(p[5])\n",
        "print(p[6])\n",
        "print(p[3:8])\n",
        "print(p[8])\n",
        "print(p[2:5])"
      ],
      "metadata": {
        "colab": {
          "base_uri": "https://localhost:8080/"
        },
        "id": "RJsReuvCl2iA",
        "outputId": "dc9e935f-83be-4cee-ec59-a59a1e9bd712"
      },
      "execution_count": 18,
      "outputs": [
        {
          "output_type": "stream",
          "name": "stdout",
          "text": [
            "[1, 2, 3, 4, 5, 'A', 'AB', 'C', 44.0]\n",
            "A\n",
            "AB\n",
            "[4, 5, 'A', 'AB', 'C']\n",
            "44.0\n",
            "[3, 4, 5]\n"
          ]
        }
      ]
    },
    {
      "cell_type": "markdown",
      "source": [
        "#การดำเนินการทางคณิตศาสตร์\n",
        "โจทย์มินิโปรเจกต์\n",
        "\n",
        "1. จงสร้างโปรแกรมเสมือนเครื่องคำนวณ\n",
        "2. โดยกำหนดให้ต้อง Input อย่างน้อย 7 ตัว\n",
        "3. แล้วให้ทั้ง 7 ตัวแปร\n",
        "4. ดำเนินการทางคณิตทุกรูปแบบ\n",
        "5. ให้หาเอาค่าของการคำนวณทุกรูปแบบในข้อ3\n",
        "6. มาบวกกันเพื่อหาค่า Maximum"
      ],
      "metadata": {
        "id": "dTalAsbvn2Dk"
      }
    },
    {
      "cell_type": "code",
      "source": [
        "#input\n",
        "X1 = float(input(\"X1 =\"))\n",
        "X2 = float(input(\"X2 =\"))\n",
        "X3 = float(input(\"X3 =\"))\n",
        "X4 = float(input(\"X4 =\"))\n",
        "X5 = float(input(\"X5 =\"))\n",
        "X6 = float(input(\"X6 =\"))\n",
        "X7 = float(input(\"X7 =\"))\n",
        "\n",
        "A=X1+X2+X3+X4+X5+X6+X7\n",
        "B=X1-X2-X3-X4-X5-X6-X7\n",
        "C=X1*X2*X3*X4*X5*X6*X7\n",
        "D=X1/X2/X3/X4/X5/X6/X7\n",
        "E=X1%X2%X3%X4%X5%X6%X7\n",
        "F=X1//X2//X3//X4//X5//X6//X7\n",
        "G=X1*X2*X3*X4*X5*X6*X7\n",
        "\n",
        "print(\"บวก\",A)\n",
        "print(\"ลบ\",B)\n",
        "print(\"คูณ\",C)\n",
        "print(\"หาร\",D)\n",
        "print(\"หารเอาเศษ\",E)\n",
        "print(\"หารไม่เอาเศษ\",F)\n",
        "print(\"เลขยกกำลัง\",G)\n",
        "\n",
        "print(\"Maximum :\",A+B+C+D+E+F+G)\n",
        "\n"
      ],
      "metadata": {
        "colab": {
          "base_uri": "https://localhost:8080/"
        },
        "id": "8LELRPhKpbN1",
        "outputId": "a3c9f23c-42cd-47a6-e731-a8223e31b209"
      },
      "execution_count": 24,
      "outputs": [
        {
          "output_type": "stream",
          "name": "stdout",
          "text": [
            "X1 =2\n",
            "X2 =2\n",
            "X3 =2\n",
            "X4 =2\n",
            "X5 =2\n",
            "X6 =2\n",
            "X7 =2\n",
            "บวก 14.0\n",
            "ลบ -10.0\n",
            "คูณ 128.0\n",
            "หาร 0.03125\n",
            "หารเอาเศษ 0.0\n",
            "หารไม่เอาเศษ 0.0\n",
            "เลขยกกำลัง 128.0\n",
            "Maximum : 260.03125\n"
          ]
        }
      ]
    }
  ]
}